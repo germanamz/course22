{
 "cells": [
  {
   "cell_type": "markdown",
   "id": "bb9d77ca-7134-4305-8f77-9ce16c51271f",
   "metadata": {},
   "source": [
    "# numpy"
   ]
  },
  {
   "cell_type": "code",
   "execution_count": 1,
   "id": "f79df51e-1c40-4006-aa36-cafa798e6601",
   "metadata": {},
   "outputs": [],
   "source": [
    "import numpy as np"
   ]
  },
  {
   "cell_type": "code",
   "execution_count": 14,
   "id": "240699d6-ff43-4404-886f-6a810a63c8a7",
   "metadata": {},
   "outputs": [],
   "source": [
    "X = np.array([1,2,3,4], dtype=np.float32)"
   ]
  },
  {
   "cell_type": "code",
   "execution_count": 15,
   "id": "1baad302-9e8d-4a1e-a250-979f6d5d41d2",
   "metadata": {},
   "outputs": [],
   "source": [
    "Y = np.array([2,4,6,8], dtype=np.float32)"
   ]
  },
  {
   "cell_type": "code",
   "execution_count": 16,
   "id": "dac8698e-7e7f-4ebf-b323-624f3cc8c459",
   "metadata": {},
   "outputs": [],
   "source": [
    "W = 0.0"
   ]
  },
  {
   "cell_type": "markdown",
   "id": "295a0b2a-6452-4387-b5ae-63dbe4cdd51d",
   "metadata": {},
   "source": [
    "### prediction"
   ]
  },
  {
   "cell_type": "code",
   "execution_count": 17,
   "id": "bf92ad9d-c013-4cf1-b173-d58d3620dcea",
   "metadata": {},
   "outputs": [],
   "source": [
    "def forward(x):\n",
    "    return W * x"
   ]
  },
  {
   "cell_type": "markdown",
   "id": "377ba9fe-a226-4586-8ad2-247d61eb983d",
   "metadata": {},
   "source": [
    "### loss"
   ]
  },
  {
   "cell_type": "code",
   "execution_count": 9,
   "id": "d2d36543-747e-4f27-808c-0f1e1968a14c",
   "metadata": {},
   "outputs": [],
   "source": [
    "def loss(y, y_predicted):\n",
    "    return ((y_predicted - y)**2).mean()"
   ]
  },
  {
   "cell_type": "markdown",
   "id": "fabaf7ae-25e9-47e9-ac6c-736341b317d1",
   "metadata": {},
   "source": [
    "### gradient\n",
    "dJ/dw = 1/N 2x (w*x - y)"
   ]
  },
  {
   "cell_type": "code",
   "execution_count": 10,
   "id": "94f7eb71-71f7-4a81-a0eb-fc1d8072af5a",
   "metadata": {},
   "outputs": [],
   "source": [
    "def gradient(x, y, y_predicted):\n",
    "    return np.dot(2*x, y_predicted - y).mean()"
   ]
  },
  {
   "cell_type": "code",
   "execution_count": 11,
   "id": "a4df0415-4607-419d-95ca-013eba24bedc",
   "metadata": {},
   "outputs": [
    {
     "data": {
      "text/plain": [
       "0.0"
      ]
     },
     "execution_count": 11,
     "metadata": {},
     "output_type": "execute_result"
    }
   ],
   "source": [
    "forward(5)"
   ]
  },
  {
   "cell_type": "markdown",
   "id": "982ff2d3-8223-4c65-8264-cd229c6cd577",
   "metadata": {},
   "source": [
    "### training"
   ]
  },
  {
   "cell_type": "code",
   "execution_count": 12,
   "id": "932c40a8-e724-4bbd-88d1-58c80e37e296",
   "metadata": {},
   "outputs": [],
   "source": [
    "lr = 0.01"
   ]
  },
  {
   "cell_type": "code",
   "execution_count": 13,
   "id": "9d44f8de-cae4-4015-8ea2-e7d0c9bdea21",
   "metadata": {},
   "outputs": [],
   "source": [
    "n_iters = 10"
   ]
  },
  {
   "cell_type": "code",
   "execution_count": 22,
   "id": "dc47de1e-5912-477f-b7ea-b8327e77285c",
   "metadata": {},
   "outputs": [
    {
     "name": "stdout",
     "output_type": "stream",
     "text": [
      "0 W: 1.9999999952316283, loss: 0.0, y_pred: [2. 4. 6. 8.]\n",
      "1 W: 1.9999999952316283, loss: 0.0, y_pred: [2. 4. 6. 8.]\n",
      "2 W: 1.9999999952316283, loss: 0.0, y_pred: [2. 4. 6. 8.]\n",
      "3 W: 1.9999999952316283, loss: 0.0, y_pred: [2. 4. 6. 8.]\n",
      "4 W: 1.9999999952316283, loss: 0.0, y_pred: [2. 4. 6. 8.]\n",
      "5 W: 1.9999999952316283, loss: 0.0, y_pred: [2. 4. 6. 8.]\n",
      "6 W: 1.9999999952316283, loss: 0.0, y_pred: [2. 4. 6. 8.]\n",
      "7 W: 1.9999999952316283, loss: 0.0, y_pred: [2. 4. 6. 8.]\n",
      "8 W: 1.9999999952316283, loss: 0.0, y_pred: [2. 4. 6. 8.]\n",
      "9 W: 1.9999999952316283, loss: 0.0, y_pred: [2. 4. 6. 8.]\n"
     ]
    }
   ],
   "source": [
    "for epoc in range(n_iters):\n",
    "    y_pred = forward(X)\n",
    "    l = loss(Y, y_pred)\n",
    "    dw = gradient(X, Y, y_pred)\n",
    "    \n",
    "    # Update weights\n",
    "    \n",
    "    W -= lr * dw\n",
    "    \n",
    "    print(f\"{epoc} W: {W}, loss: {l}, y_pred: {y_pred}\")"
   ]
  },
  {
   "cell_type": "code",
   "execution_count": null,
   "id": "208c6234-32e9-4c60-877a-f5900054c973",
   "metadata": {},
   "outputs": [],
   "source": []
  }
 ],
 "metadata": {
  "kernelspec": {
   "display_name": "Python 3 (ipykernel)",
   "language": "python",
   "name": "python3"
  },
  "language_info": {
   "codemirror_mode": {
    "name": "ipython",
    "version": 3
   },
   "file_extension": ".py",
   "mimetype": "text/x-python",
   "name": "python",
   "nbconvert_exporter": "python",
   "pygments_lexer": "ipython3",
   "version": "3.9.13"
  }
 },
 "nbformat": 4,
 "nbformat_minor": 5
}
