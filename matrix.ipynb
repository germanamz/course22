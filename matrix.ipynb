{
 "cells": [
  {
   "cell_type": "code",
   "execution_count": 13,
   "id": "ba5883c6-4d27-44b7-997f-8b702f43d5b1",
   "metadata": {},
   "outputs": [],
   "source": [
    "import numpy as np\n",
    "import torch"
   ]
  },
  {
   "cell_type": "markdown",
   "id": "e2ce6226-a9fb-40fe-a386-1e2b9b7935c6",
   "metadata": {},
   "source": [
    "# numpy"
   ]
  },
  {
   "cell_type": "code",
   "execution_count": 3,
   "id": "ee720e0d-1f2a-4d2e-a6d7-292ce536d8b7",
   "metadata": {},
   "outputs": [],
   "source": [
    "m1 = np.array([[1,2,3], [4,5,6], [7,8,9]])"
   ]
  },
  {
   "cell_type": "code",
   "execution_count": 8,
   "id": "d915fe53-194d-41f6-86ae-38af07a369de",
   "metadata": {},
   "outputs": [],
   "source": [
    "v1 = np.array([1,2,3])"
   ]
  },
  {
   "cell_type": "code",
   "execution_count": 9,
   "id": "51d4c040-bbfb-4a06-a4c5-48a5ff532774",
   "metadata": {},
   "outputs": [
    {
     "data": {
      "text/plain": [
       "array([[ 1,  4,  9],\n",
       "       [ 4, 10, 18],\n",
       "       [ 7, 16, 27]])"
      ]
     },
     "execution_count": 9,
     "metadata": {},
     "output_type": "execute_result"
    }
   ],
   "source": [
    "m1 * v1"
   ]
  },
  {
   "cell_type": "code",
   "execution_count": 10,
   "id": "52770bb5-faff-4743-8a9c-cbd361b9e344",
   "metadata": {},
   "outputs": [
    {
     "data": {
      "text/plain": [
       "array([[0, 0, 0],\n",
       "       [3, 3, 3],\n",
       "       [6, 6, 6]])"
      ]
     },
     "execution_count": 10,
     "metadata": {},
     "output_type": "execute_result"
    }
   ],
   "source": [
    "m1 - v1"
   ]
  },
  {
   "cell_type": "code",
   "execution_count": 11,
   "id": "f8a44d05-ca1c-4944-92aa-ec078f138acd",
   "metadata": {},
   "outputs": [
    {
     "data": {
      "text/plain": [
       "array([[ 2,  4,  6],\n",
       "       [ 5,  7,  9],\n",
       "       [ 8, 10, 12]])"
      ]
     },
     "execution_count": 11,
     "metadata": {},
     "output_type": "execute_result"
    }
   ],
   "source": [
    "m1 + v1"
   ]
  },
  {
   "cell_type": "code",
   "execution_count": 12,
   "id": "cbf81931-4bc4-4dc1-b054-84e695c94b85",
   "metadata": {},
   "outputs": [
    {
     "data": {
      "text/plain": [
       "array([[1. , 1. , 1. ],\n",
       "       [4. , 2.5, 2. ],\n",
       "       [7. , 4. , 3. ]])"
      ]
     },
     "execution_count": 12,
     "metadata": {},
     "output_type": "execute_result"
    }
   ],
   "source": [
    "m1 / v1"
   ]
  },
  {
   "cell_type": "markdown",
   "id": "460ce96d-7ed2-4dd5-b20f-bbb5d6cd5650",
   "metadata": {},
   "source": [
    "# torch"
   ]
  },
  {
   "cell_type": "code",
   "execution_count": 14,
   "id": "9ba3df71-bbd1-4c27-b628-e143eb659d75",
   "metadata": {},
   "outputs": [],
   "source": [
    "tm1 = torch.tensor([[1,2,3], [4,5,6], [7,8,9]])"
   ]
  },
  {
   "cell_type": "code",
   "execution_count": 15,
   "id": "e3bae188-a237-4f2b-b821-e548b4e69094",
   "metadata": {},
   "outputs": [],
   "source": [
    "tv1 = torch.tensor([1,2,3])"
   ]
  },
  {
   "cell_type": "code",
   "execution_count": 16,
   "id": "bb7dca2a-c36c-4b5c-9c78-8ef38b31ec29",
   "metadata": {},
   "outputs": [
    {
     "data": {
      "text/plain": [
       "tensor([[ 1,  4,  9],\n",
       "        [ 4, 10, 18],\n",
       "        [ 7, 16, 27]])"
      ]
     },
     "execution_count": 16,
     "metadata": {},
     "output_type": "execute_result"
    }
   ],
   "source": [
    "tm1 * tv1"
   ]
  },
  {
   "cell_type": "code",
   "execution_count": 18,
   "id": "0ab9a71a-39cc-410e-bee0-b8d19b88a657",
   "metadata": {},
   "outputs": [
    {
     "data": {
      "text/plain": [
       "tensor([[0, 0, 0],\n",
       "        [3, 3, 3],\n",
       "        [6, 6, 6]])"
      ]
     },
     "execution_count": 18,
     "metadata": {},
     "output_type": "execute_result"
    }
   ],
   "source": [
    "tm1 - tv1"
   ]
  },
  {
   "cell_type": "code",
   "execution_count": 19,
   "id": "51e6070f-43e9-44c5-96ab-71aac7ae71f0",
   "metadata": {},
   "outputs": [
    {
     "data": {
      "text/plain": [
       "tensor([[ 2,  4,  6],\n",
       "        [ 5,  7,  9],\n",
       "        [ 8, 10, 12]])"
      ]
     },
     "execution_count": 19,
     "metadata": {},
     "output_type": "execute_result"
    }
   ],
   "source": [
    "tm1 + tv1"
   ]
  },
  {
   "cell_type": "code",
   "execution_count": 20,
   "id": "c902a0cd-08c8-42bd-b3c4-5129a5f4d312",
   "metadata": {},
   "outputs": [
    {
     "data": {
      "text/plain": [
       "tensor([[1.0000, 1.0000, 1.0000],\n",
       "        [4.0000, 2.5000, 2.0000],\n",
       "        [7.0000, 4.0000, 3.0000]])"
      ]
     },
     "execution_count": 20,
     "metadata": {},
     "output_type": "execute_result"
    }
   ],
   "source": [
    "tm1 / tv1"
   ]
  },
  {
   "cell_type": "code",
   "execution_count": null,
   "id": "193670c1-f4ae-41c8-95da-eeebab203d3e",
   "metadata": {},
   "outputs": [],
   "source": []
  }
 ],
 "metadata": {
  "kernelspec": {
   "display_name": "Python 3 (ipykernel)",
   "language": "python",
   "name": "python3"
  },
  "language_info": {
   "codemirror_mode": {
    "name": "ipython",
    "version": 3
   },
   "file_extension": ".py",
   "mimetype": "text/x-python",
   "name": "python",
   "nbconvert_exporter": "python",
   "pygments_lexer": "ipython3",
   "version": "3.9.13"
  }
 },
 "nbformat": 4,
 "nbformat_minor": 5
}
